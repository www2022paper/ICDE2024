{
 "cells": [
  {
   "cell_type": "code",
   "execution_count": 1,
   "id": "4b5253fb-8c45-4439-9d6f-320a6ba5cf2d",
   "metadata": {},
   "outputs": [
    {
     "name": "stderr",
     "output_type": "stream",
     "text": [
      "2024-03-02 02:12:08.756881: I tensorflow/core/util/port.cc:111] oneDNN custom operations are on. You may see slightly different numerical results due to floating-point round-off errors from different computation orders. To turn them off, set the environment variable `TF_ENABLE_ONEDNN_OPTS=0`.\n",
      "2024-03-02 02:12:08.839999: E tensorflow/compiler/xla/stream_executor/cuda/cuda_dnn.cc:9342] Unable to register cuDNN factory: Attempting to register factory for plugin cuDNN when one has already been registered\n",
      "2024-03-02 02:12:08.840065: E tensorflow/compiler/xla/stream_executor/cuda/cuda_fft.cc:609] Unable to register cuFFT factory: Attempting to register factory for plugin cuFFT when one has already been registered\n",
      "2024-03-02 02:12:08.840122: E tensorflow/compiler/xla/stream_executor/cuda/cuda_blas.cc:1518] Unable to register cuBLAS factory: Attempting to register factory for plugin cuBLAS when one has already been registered\n",
      "2024-03-02 02:12:08.863870: I tensorflow/core/platform/cpu_feature_guard.cc:182] This TensorFlow binary is optimized to use available CPU instructions in performance-critical operations.\n",
      "To enable the following instructions: AVX2 AVX512F AVX512_VNNI AVX512_BF16 AVX_VNNI AMX_TILE AMX_INT8 AMX_BF16 FMA, in other operations, rebuild TensorFlow with the appropriate compiler flags.\n",
      "2024-03-02 02:12:10.690365: W tensorflow/compiler/tf2tensorrt/utils/py_utils.cc:38] TF-TRT Warning: Could not find TensorRT\n"
     ]
    },
    {
     "name": "stdout",
     "output_type": "stream",
     "text": [
      "2.14.0\n",
      "CPU times: user 5.09 s, sys: 3.63 s, total: 8.72 s\n",
      "Wall time: 4.88 s\n"
     ]
    }
   ],
   "source": [
    "%%time\n",
    "\n",
    "import tensorflow as tf\n",
    "print(tf.__version__)\n",
    "import sys\n",
    "sys.path.append(\"..\")\n",
    "import pandas as pd\n",
    "import matplotlib.pyplot as plt\n",
    "from tensorflow.keras.callbacks import EarlyStopping\n",
    "import numpy as np\n",
    "\n",
    "\n",
    "def plot_loss(history, *losses):\n",
    "    for loss in losses:\n",
    "        plt.plot(history.history[loss], label=loss)\n",
    "    plt.xlabel('Epoch')\n",
    "    plt.ylabel('Loss')\n",
    "    plt.legend()\n",
    "    plt.grid(True)\n",
    "    plt.show()\n",
    "\n",
    "def scaling(x, min, max):\n",
    "    return np.where(x < min, 0.0, np.where(x > max, 1.0, (x - min) / (max - min)))\n",
    "\n",
    "early_stopping = EarlyStopping(\n",
    "    monitor='val_loss',  # \n",
    "    patience=500,        # \n",
    "    verbose=1,          # \n",
    "    mode='min',         # \n",
    "    restore_best_weights=True  # \n",
    ")"
   ]
  },
  {
   "cell_type": "code",
   "execution_count": 2,
   "id": "b71a2eef-9d0f-42af-8791-a15b3970e9eb",
   "metadata": {},
   "outputs": [],
   "source": [
    "SAVE_DIR = \"../data\"\n",
    "file_criteo = SAVE_DIR + \"/Alibaba-lift.csv\"\n",
    "df_criteo_ori = pd.read_csv(file_criteo, sep=',')"
   ]
  },
  {
   "cell_type": "code",
   "execution_count": 3,
   "id": "1ede53c9-b837-48dc-bc0f-440d9b223bc1",
   "metadata": {},
   "outputs": [
    {
     "name": "stdout",
     "output_type": "stream",
     "text": [
      "1390274 (1390274, 16) (496527, 16) 1986106 (99305, 16)\n",
      "1390274 (1390274, 16) (302999, 16) 1986106 (60469, 16)\n",
      "CPU times: user 1.17 s, sys: 465 ms, total: 1.64 s\n",
      "Wall time: 1.63 s\n"
     ]
    }
   ],
   "source": [
    "%%time\n",
    "\n",
    "sample = 1.0\n",
    "random_state=20220720\n",
    "df_criteo=df_criteo_ori.sample(frac=sample, random_state=random_state).reset_index(drop=True)\n",
    "\n",
    "\n",
    "\n",
    "# X = df_criteo[['f0', 'f1', 'f2', 'f3', 'f4', 'f5', 'f6', 'f7', 'f8', 'f9', 'f10', 'f11']].values\n",
    "\n",
    "# X[:, 0] = scaling(X[:, 0], min=np.min(X[:, 0]), max=np.max(X[:, 0]))\n",
    "# X[:, 1] = scaling(X[:, 1], min=np.min(X[:, 1]), max=np.max(X[:, 1]))\n",
    "# X[:, 2] = scaling(X[:, 2], min=np.min(X[:, 2]), max=np.max(X[:, 2]))\n",
    "# X[:, 3] = scaling(X[:, 3], min=np.min(X[:, 3]), max=np.max(X[:, 3]))\n",
    "# X[:, 4] = scaling(X[:, 4], min=np.min(X[:, 4]), max=np.max(X[:, 4]))\n",
    "# X[:, 5] = scaling(X[:, 5], min=np.min(X[:, 5]), max=np.max(X[:, 5]))\n",
    "# X[:, 6] = scaling(X[:, 6], min=np.min(X[:, 6]), max=np.max(X[:, 6]))\n",
    "# X[:, 7] = scaling(X[:, 7], min=np.min(X[:, 7]), max=np.max(X[:, 7]))\n",
    "# X[:, 8] = scaling(X[:, 8], min=np.min(X[:, 8]), max=np.max(X[:, 8]))\n",
    "# X[:, 9] = scaling(X[:, 9], min=np.min(X[:, 9]), max=np.max(X[:, 9]))\n",
    "# X[:, 10] = scaling(X[:, 10], min=np.min(X[:, 10]), max=np.max(X[:, 10]))\n",
    "# X[:, 11] = scaling(X[:, 11], min=np.min(X[:, 11]), max=np.max(X[:, 11]))\n",
    "# # \n",
    "columns = [f'f{i}' for i in range(16)] \n",
    "X = df_criteo[columns].values\n",
    "# \n",
    "for i in range(X.shape[1]):\n",
    "    # \n",
    "    X[:, i] = scaling(X[:, i], min=np.min(X[:, i]), max=np.max(X[:, i]))\n",
    "\n",
    "T = df_criteo['treatment'].values.reshape(-1, 1)\n",
    "Y_visit = df_criteo['exposure'].values.reshape(-1, 1)\n",
    "Y_conv = df_criteo['label'].values.reshape(-1, 1)\n",
    "\n",
    "T.shape, Y_visit.shape, Y_conv.shape\n",
    "\n",
    "\n",
    "# calculate len\n",
    "train_len = int(len(X) * 0.70)\n",
    "cali_len = int(len(X) * 0.05)\n",
    "test_len = len(X) - train_len - cali_len\n",
    "\n",
    "# obtain train set\n",
    "X_train = X[:train_len, :]\n",
    "T_train = T[:train_len, :]\n",
    "Y_visit_train = Y_visit[:train_len, :]\n",
    "Y_conv_train = Y_conv[:train_len, :]\n",
    "\n",
    "# obtain calibration set\n",
    "X_cali = X[train_len:train_len+cali_len, :]\n",
    "T_cali = T[train_len:train_len+cali_len, :]\n",
    "Y_visit_cali = Y_visit[train_len:train_len+cali_len, :]\n",
    "Y_conv_cali = Y_conv[train_len:train_len+cali_len, :]\n",
    "\n",
    "# obtain test set\n",
    "X_test = X[train_len+cali_len:, :]\n",
    "T_test = T[train_len+cali_len:, :]\n",
    "Y_visit_test = Y_visit[train_len+cali_len:, :]\n",
    "Y_conv_test = Y_conv[train_len+cali_len:, :]\n",
    "\n",
    "print(train_len, X_train.shape, X_test.shape, len(X), X_cali.shape)\n",
    "\n",
    "# make covariate shift\n",
    "condition_cali = (X_cali[:, 0] > 0.3) & (X_cali[:, 1] < 0.7)\n",
    "X_cali = X_cali[condition_cali]\n",
    "T_cali = T_cali[condition_cali]\n",
    "Y_visit_cali = Y_visit_cali[condition_cali]\n",
    "Y_conv_cali = Y_conv_cali[condition_cali]\n",
    "\n",
    "condition_test = (X_test[:, 0] > 0.3) & (X_test[:, 1] < 0.7)\n",
    "X_test = X_test[condition_test]\n",
    "T_test = T_test[condition_test]\n",
    "Y_visit_test = Y_visit_test[condition_test]\n",
    "Y_conv_test = Y_conv_test[condition_test]\n",
    "\n",
    "print(train_len, X_train.shape, X_test.shape, len(X), X_cali.shape)"
   ]
  },
  {
   "cell_type": "code",
   "execution_count": 4,
   "id": "7fe8bf7c-1761-4f6b-a074-429ca661a5b0",
   "metadata": {},
   "outputs": [],
   "source": [
    "count = 1"
   ]
  },
  {
   "cell_type": "code",
   "execution_count": 5,
   "id": "a72a2f03-d69f-42c9-ad03-449a53530e59",
   "metadata": {},
   "outputs": [],
   "source": [
    "# store test aucc for pic \n",
    "import pandas as pd\n",
    "\n",
    "def get_aucc_cost_curve(aucc_list):\n",
    "    delta_cost_list_group = np.array([aucc[1] for aucc in aucc_list])\n",
    "    delta_reward_list_group = np.array([aucc[2] for aucc in aucc_list])\n",
    "    \n",
    "    avg_delta_cost_list = np.mean(delta_cost_list_group, axis=0)\n",
    "    avg_delta_reward_list = np.mean(delta_reward_list_group, axis=0)\n",
    "    \n",
    "    df_aucc_cost_curve = pd.DataFrame(avg_delta_cost_list, columns=['delta_cost'])\n",
    "    df_aucc_cost_curve['delta_reward'] = avg_delta_reward_list\n",
    "    \n",
    "    return df_aucc_cost_curve\n",
    "\n"
   ]
  },
  {
   "cell_type": "markdown",
   "id": "64170305-cd6b-4a01-bbb4-b8f13047ccac",
   "metadata": {},
   "source": [
    "# TPM-CF method:"
   ]
  },
  {
   "cell_type": "markdown",
   "id": "a7ddeabd-ff6a-4782-af19-9bc0c8448dbc",
   "metadata": {},
   "source": [
    "### Train model and predict"
   ]
  },
  {
   "cell_type": "code",
   "execution_count": 8,
   "id": "5529997a-b1f8-4cce-88ec-f3288e32481a",
   "metadata": {},
   "outputs": [
    {
     "name": "stdout",
     "output_type": "stream",
     "text": [
      "iteration =  1\n"
     ]
    },
    {
     "name": "stderr",
     "output_type": "stream",
     "text": [
      "[Parallel(n_jobs=25)]: Using backend ThreadingBackend with 25 concurrent workers.\n",
      "[Parallel(n_jobs=25)]: Done 150 tasks      | elapsed:  1.6min\n",
      "[Parallel(n_jobs=25)]: Done 256 out of 256 | elapsed:  2.5min finished\n",
      "[Parallel(n_jobs=25)]: Using backend ThreadingBackend with 25 concurrent workers.\n",
      "[Parallel(n_jobs=25)]: Done 150 tasks      | elapsed:   27.6s\n",
      "[Parallel(n_jobs=25)]: Done 256 out of 256 | elapsed:   46.1s finished\n",
      "[Parallel(n_jobs=25)]: Using backend ThreadingBackend with 25 concurrent workers.\n",
      "[Parallel(n_jobs=25)]: Done 150 tasks      | elapsed:    3.3s\n",
      "[Parallel(n_jobs=25)]: Done 256 out of 256 | elapsed:    5.6s finished\n",
      "[Parallel(n_jobs=25)]: Using backend ThreadingBackend with 25 concurrent workers.\n",
      "[Parallel(n_jobs=25)]: Done 150 tasks      | elapsed:    0.6s\n",
      "[Parallel(n_jobs=25)]: Done 256 out of 256 | elapsed:    1.1s finished\n",
      "[Parallel(n_jobs=25)]: Using backend ThreadingBackend with 25 concurrent workers.\n",
      "[Parallel(n_jobs=25)]: Done 150 tasks      | elapsed:  1.3min\n",
      "[Parallel(n_jobs=25)]: Done 256 out of 256 | elapsed:  2.1min finished\n",
      "[Parallel(n_jobs=25)]: Using backend ThreadingBackend with 25 concurrent workers.\n",
      "[Parallel(n_jobs=25)]: Done 150 tasks      | elapsed:   24.5s\n",
      "[Parallel(n_jobs=25)]: Done 256 out of 256 | elapsed:   41.5s finished\n",
      "[Parallel(n_jobs=25)]: Using backend ThreadingBackend with 25 concurrent workers.\n",
      "[Parallel(n_jobs=25)]: Done 150 tasks      | elapsed:    3.4s\n",
      "[Parallel(n_jobs=25)]: Done 256 out of 256 | elapsed:    5.6s finished\n",
      "[Parallel(n_jobs=25)]: Using backend ThreadingBackend with 25 concurrent workers.\n",
      "[Parallel(n_jobs=25)]: Done 150 tasks      | elapsed:    0.5s\n",
      "[Parallel(n_jobs=25)]: Done 256 out of 256 | elapsed:    0.9s finished\n"
     ]
    },
    {
     "name": "stdout",
     "output_type": "stream",
     "text": [
      "AUCC =  0.6241230889967618\n"
     ]
    }
   ],
   "source": [
    "import sklearn \n",
    "import sklearn.metrics\n",
    "from metric.Metric import *\n",
    "import keras\n",
    "import keras.backend as K\n",
    "import tensorflow as tf\n",
    "from keras.callbacks import LearningRateScheduler\n",
    "from keras.callbacks import ReduceLROnPlateau\n",
    "from model.uplift_model import *\n",
    "\n",
    "from econml.dml import CausalForestDML\n",
    "from sklearn.ensemble import RandomForestRegressor, RandomForestClassifier\n",
    "from sklearn.ensemble import GradientBoostingRegressor, GradientBoostingClassifier\n",
    "from sklearn.dummy import DummyRegressor, DummyClassifier\n",
    "import pickle\n",
    "\n",
    "grf_aucc_list = []\n",
    "\n",
    "X_grf_train = X_train\n",
    "T_grf_train = T_train.flatten()\n",
    "Y_visit_grf_train = Y_visit_train.flatten()\n",
    "Y_conv_grf_train = Y_conv_train.flatten()\n",
    "\n",
    "X_grf_test = X_test\n",
    "T_grf_test = T_test.flatten()\n",
    "Y_visit_grf_test = Y_visit_test.flatten()\n",
    "Y_conv_grf_test = Y_conv_test.flatten()\n",
    "\n",
    "for i in range(count):\n",
    "    \n",
    "    print(\"iteration = \", i + 1)\n",
    "    \n",
    "    depth = 6\n",
    "    min_samples_leaf = 1000\n",
    "    n_estimators = 256\n",
    "\n",
    "    grf_random_state = 20220723 + i * 11\n",
    "    \n",
    "    # visit\n",
    "    est_it = CausalForestDML(model_y=RandomForestClassifier(n_estimators=150, max_samples = 0.7, random_state=grf_random_state, max_depth=12, min_samples_leaf=500, n_jobs=32),\n",
    "                          model_t=RandomForestClassifier(n_estimators=150, max_samples = 0.7, random_state=grf_random_state, max_depth=12, min_samples_leaf=500, n_jobs=32),\n",
    "                          discrete_treatment=True,\n",
    "                          cv=3,\n",
    "                          n_estimators=n_estimators,\n",
    "                          n_jobs=25,\n",
    "                          max_depth=depth,\n",
    "                          verbose=1,\n",
    "                          min_samples_leaf = min_samples_leaf,\n",
    "                          random_state=grf_random_state)\n",
    "\n",
    "    est_it.fit(Y_visit_grf_train, T_grf_train, X=X_grf_train, cache_values=True)\n",
    "    \n",
    "    model_file = \"../model_file/uplift/criteo/final_model/grf/A_visit_CausalForestDML_{}.model\".format(i + 1)\n",
    "    \n",
    "    fw = open(model_file, \"wb\")\n",
    "\n",
    "    pickle.dump(est_it, fw)\n",
    "\n",
    "    fw.close()\n",
    "    \n",
    "    grf_test_pre_visit = est_it.effect(X_grf_test)\n",
    "    \n",
    "    # conv\n",
    "    est_it = CausalForestDML(model_y=RandomForestClassifier(n_estimators=50, max_samples = 0.7, random_state=grf_random_state, max_depth=12, min_samples_leaf=500, n_jobs=32),\n",
    "                          model_t=RandomForestClassifier(n_estimators=50, max_samples = 0.7, random_state=grf_random_state, max_depth=12, min_samples_leaf=500, n_jobs=32),\n",
    "                          discrete_treatment=True,\n",
    "                          cv=3,\n",
    "                          n_estimators=n_estimators,\n",
    "                          n_jobs=25,\n",
    "                          max_depth=depth,\n",
    "                          verbose=1,   \n",
    "                          min_samples_leaf = min_samples_leaf,\n",
    "                          random_state=grf_random_state)\n",
    "\n",
    "    est_it.fit(Y_conv_grf_train, T_grf_train, X=X_grf_train, cache_values=True)\n",
    "    \n",
    "    model_file = \"../model_file/uplift/criteo/final_model/grf/A_conv_CausalForestDML_{}.model\".format(i + 1)\n",
    "    \n",
    "    fw = open(model_file, \"wb\")\n",
    "\n",
    "    pickle.dump(est_it, fw)\n",
    "\n",
    "    fw.close()\n",
    "    \n",
    "    grf_test_pre_conv = est_it.effect(X_grf_test)\n",
    "    \n",
    "    # roi\n",
    "    \n",
    "    roi_grf_pre = grf_test_pre_conv / np.where(abs(grf_test_pre_visit) < 1e-6, 1e-6, grf_test_pre_visit)\n",
    "\n",
    "\n",
    "    grf_aucc = get_uplift_model_aucc_no_show(t=(T_test > 0.5).flatten(), y_reward=Y_conv_test.flatten(), y_cost=Y_visit_test.flatten(), roi_pred=roi_grf_pre.flatten(), quantile=200)\n",
    "\n",
    "    grf_aucc_list.append(grf_aucc)\n",
    "    "
   ]
  },
  {
   "cell_type": "code",
   "execution_count": 9,
   "id": "12079c6f-2232-4f3d-8916-0400ee5ba408",
   "metadata": {},
   "outputs": [
    {
     "name": "stdout",
     "output_type": "stream",
     "text": [
      "aucc =  0.6241230889967618\n"
     ]
    }
   ],
   "source": [
    "A_grf_aucc_list = get_aucc_cost_curve(grf_aucc_list)\n",
    "print(\"aucc = \", np.sum(A_grf_aucc_list['delta_reward'].values) / (A_grf_aucc_list['delta_reward'].values[-1] * 201))\n",
    "A_grf_aucc_list.to_csv(\"../figure/ali/b_grf_aucc_list.csv\")"
   ]
  },
  {
   "cell_type": "code",
   "execution_count": null,
   "id": "61a6c201-8fba-4f2a-ad60-435a93a93c71",
   "metadata": {},
   "outputs": [],
   "source": []
  }
 ],
 "metadata": {
  "kernelspec": {
   "display_name": "Python 3 (ipykernel)",
   "language": "python",
   "name": "python3"
  },
  "language_info": {
   "codemirror_mode": {
    "name": "ipython",
    "version": 3
   },
   "file_extension": ".py",
   "mimetype": "text/x-python",
   "name": "python",
   "nbconvert_exporter": "python",
   "pygments_lexer": "ipython3",
   "version": "3.10.13"
  }
 },
 "nbformat": 4,
 "nbformat_minor": 5
}
